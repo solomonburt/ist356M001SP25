{
 "cells": [
  {
   "cell_type": "markdown",
   "metadata": {},
   "source": [
    "# API 4-2: REST APIs \n",
    "\n",
    "Non-GET, Caching Strategies, Azure "
   ]
  },
  {
   "cell_type": "markdown",
   "metadata": {},
   "source": [
    "## HTTP Methods beyond GET\n",
    "\n",
    "So far we have only seen GET requests. But there are other HTTP methods that are used to perform different operations  such as:\n",
    "\n",
    "- POST: Create a new resource\n",
    "- PUT: Update an existing resource\n",
    "- DELETE: Delete a resource\n",
    "\n",
    "From the perspective of `requests` these behave the same as a GET. The only subtle difference is that you can pass a `data` parameter when there are large payloads which cannot fit on the URL.  \n"
   ]
  },
  {
   "cell_type": "markdown",
   "metadata": {},
   "source": [
    "## Example of a POST request\n",
    "\n",
    "Let's do an example with the Azure sentiment API from the IoT Portal. This REST API requires the text to analyze, and will return the sentiment or \"mood\" of the text.  Since there can be a substantial amount of text, the API requires the POST method, and the data to be sent in the body of the request.\n",
    "\n",
    "First, Try it out in the IoT portal:\n",
    "\n",
    "`/api/azure/sentiment`\n",
    "\n",
    "Text: \"I love IST356. It is the best course I've ever taken.\"\n",
    "\n",
    "Then, let's convert the `curl` command to Python `requests` code. "
   ]
  },
  {
   "cell_type": "code",
   "execution_count": 3,
   "metadata": {},
   "outputs": [
    {
     "ename": "HTTPError",
     "evalue": "500 Server Error: INTERNAL SERVER ERROR for url: https://cent.ischool-iot.net/api/azure/sentiment",
     "output_type": "error",
     "traceback": [
      "\u001b[1;31m---------------------------------------------------------------------------\u001b[0m",
      "\u001b[1;31mHTTPError\u001b[0m                                 Traceback (most recent call last)",
      "Cell \u001b[1;32mIn[3], line 23\u001b[0m\n\u001b[0;32m     19\u001b[0m data \u001b[38;5;241m=\u001b[39m {\n\u001b[0;32m     20\u001b[0m     \u001b[38;5;124m'\u001b[39m\u001b[38;5;124mtext\u001b[39m\u001b[38;5;124m'\u001b[39m: \u001b[38;5;124m'\u001b[39m\u001b[38;5;124mI love IST356. It is the best course I\u001b[39m\u001b[38;5;130;01m\\'\u001b[39;00m\u001b[38;5;124mve ever taken.\u001b[39m\u001b[38;5;124m'\u001b[39m\n\u001b[0;32m     21\u001b[0m }\n\u001b[0;32m     22\u001b[0m response \u001b[38;5;241m=\u001b[39m requests\u001b[38;5;241m.\u001b[39mpost(url, headers\u001b[38;5;241m=\u001b[39mheaders, data\u001b[38;5;241m=\u001b[39mdata)\n\u001b[1;32m---> 23\u001b[0m \u001b[43mresponse\u001b[49m\u001b[38;5;241;43m.\u001b[39;49m\u001b[43mraise_for_status\u001b[49m\u001b[43m(\u001b[49m\u001b[43m)\u001b[49m\n\u001b[0;32m     24\u001b[0m results \u001b[38;5;241m=\u001b[39m response\u001b[38;5;241m.\u001b[39mjson()\n\u001b[0;32m     25\u001b[0m sentiment \u001b[38;5;241m=\u001b[39m results[\u001b[38;5;124m'\u001b[39m\u001b[38;5;124mresults\u001b[39m\u001b[38;5;124m'\u001b[39m][\u001b[38;5;124m'\u001b[39m\u001b[38;5;124mdocuments\u001b[39m\u001b[38;5;124m'\u001b[39m][\u001b[38;5;241m0\u001b[39m][\u001b[38;5;124m'\u001b[39m\u001b[38;5;124msentiment\u001b[39m\u001b[38;5;124m'\u001b[39m]\n",
      "File \u001b[1;32mc:\\Users\\Admin\\AppData\\Local\\Programs\\Python\\Python311\\Lib\\site-packages\\requests\\models.py:1024\u001b[0m, in \u001b[0;36mResponse.raise_for_status\u001b[1;34m(self)\u001b[0m\n\u001b[0;32m   1019\u001b[0m     http_error_msg \u001b[38;5;241m=\u001b[39m (\n\u001b[0;32m   1020\u001b[0m         \u001b[38;5;124mf\u001b[39m\u001b[38;5;124m\"\u001b[39m\u001b[38;5;132;01m{\u001b[39;00m\u001b[38;5;28mself\u001b[39m\u001b[38;5;241m.\u001b[39mstatus_code\u001b[38;5;132;01m}\u001b[39;00m\u001b[38;5;124m Server Error: \u001b[39m\u001b[38;5;132;01m{\u001b[39;00mreason\u001b[38;5;132;01m}\u001b[39;00m\u001b[38;5;124m for url: \u001b[39m\u001b[38;5;132;01m{\u001b[39;00m\u001b[38;5;28mself\u001b[39m\u001b[38;5;241m.\u001b[39murl\u001b[38;5;132;01m}\u001b[39;00m\u001b[38;5;124m\"\u001b[39m\n\u001b[0;32m   1021\u001b[0m     )\n\u001b[0;32m   1023\u001b[0m \u001b[38;5;28;01mif\u001b[39;00m http_error_msg:\n\u001b[1;32m-> 1024\u001b[0m     \u001b[38;5;28;01mraise\u001b[39;00m HTTPError(http_error_msg, response\u001b[38;5;241m=\u001b[39m\u001b[38;5;28mself\u001b[39m)\n",
      "\u001b[1;31mHTTPError\u001b[0m: 500 Server Error: INTERNAL SERVER ERROR for url: https://cent.ischool-iot.net/api/azure/sentiment"
     ]
    }
   ],
   "source": [
    "import requests\n",
    "\n",
    "'''\n",
    "curl -X 'POST' \\\n",
    "  'https://cent.ischool-iot.net/api/azure/sentiment' \\\n",
    "  -H 'accept: application/json' \\\n",
    "  -H 'X-API-KEY: APIKEY' \\\n",
    "  -H 'Content-Type: application/x-www-form-urlencoded' \\\n",
    "  -d 'text=I%20love%20IST356.%20It%20is%20the%20best%20course%20I'\\''ve%20ever%20taken.'\n",
    "'''\n",
    "\n",
    "apikey = 'YOURAPIKEYHERE'\n",
    "url = 'https://cent.ischool-iot.net/api/azure/sentiment'\n",
    "headers = {\n",
    "    'accept': 'application/json',\n",
    "    'X-API-KEY': apikey,\n",
    "    'Content-Type': 'application/x-www-form-urlencoded'\n",
    "}\n",
    "data = {\n",
    "    'text': 'I love IST356. It is the best course I\\'ve ever taken.'\n",
    "}\n",
    "response = requests.post(url, headers=headers, data=data)\n",
    "response.raise_for_status()\n",
    "results = response.json()\n",
    "sentiment = results['results']['documents'][0]['sentiment']\n",
    "print(sentiment)"
   ]
  },
  {
   "cell_type": "markdown",
   "metadata": {},
   "source": [
    "## Challenge 4-2-1\n",
    "\n",
    "For this challenge, use Azure entity recognition API to extract entities from the following text.\n",
    "\n",
    "\"The Dallas Cowboys are a far better team than the New York Giants this year. The Giants have not won a conference game yet.\"\n",
    "\n",
    "Using the API output, print each extracted entity and its type.\n"
   ]
  },
  {
   "cell_type": "markdown",
   "metadata": {},
   "source": [
    "## Caching Strategies\n",
    "\n",
    "When you are making a lot of requests to an API, it is a good idea to cache the results. We don't want to make the same request over and over again if we don't have to as this can effect our rate limits and thus our pricing.\n",
    "\n",
    "Caching can be done in a number of ways. The simplest method is a Python dictionary where the key is the request and the value is the response. You can use Python `pickle` library to save the dictionary to disk so that you can use it across multiple sessions.\n",
    "\n",
    "The caching strategy looks like this:\n",
    "\n",
    "    1. Check if the request is in the cache\n",
    "    2. If it is, we have a CACHE hit:\n",
    "    3.    return the response from the ca\n",
    "    4. else (cache miss)\n",
    "    5. Call the API to get the response\n",
    "\n",
    "Let's do an example with the Google Geocoding API on the IoT Portal. \n"
   ]
  },
  {
   "cell_type": "code",
   "execution_count": 16,
   "metadata": {},
   "outputs": [
    {
     "name": "stdout",
     "output_type": "stream",
     "text": [
      "Making request\n",
      "{'lat': 43.0481221, 'lng': -76.14742439999999}\n",
      "Using cache\n",
      "{'lat': 43.0481221, 'lng': -76.14742439999999}\n",
      "Using cache\n",
      "{'lat': 43.0481221, 'lng': -76.14742439999999}\n"
     ]
    }
   ],
   "source": [
    "import requests\n",
    "import requests_cache as rq\n",
    "\n",
    "apikey = 'YOURAPIKEYHERE'\n",
    "pickle_file = 'geocode_cache.pkl'\n",
    "location = 'Syracuse, NY'\n",
    "cache_key = location.lower()\n",
    "cache = rq.clear_cache(pickle_file)\n",
    "for i in range(3):\n",
    "    if cache_key in cache.keys():\n",
    "        print('Using cache')\n",
    "        geo = cache[cache_key]\n",
    "\n",
    "    else:\n",
    "        print('Making request')\n",
    "        url = 'https://cent.ischool-iot.net/api/google/geocode'\n",
    "        headers = { 'X-API-KEY': apikey }\n",
    "        params = {'location': location}\n",
    "        response = requests.get(url, params=params, headers=headers)\n",
    "        response.raise_for_status()\n",
    "        geo = response.json()\n",
    "        cache[cache_key] = geo\n",
    "        rq.save_cache(cache, pickle_file)\n",
    "\n",
    "    print(geo['results'][0]['geometry']['location'])\n",
    "\n"
   ]
  },
  {
   "cell_type": "markdown",
   "metadata": {},
   "source": [
    "## Challenge 4-2-2\n",
    "\n",
    "Come up with a caching strategy for the Azure sentiment API. Use the `requests_cache.py` module. You will need to decided on the cache key.\n",
    "\n",
    "For the following input:\n",
    "\n",
    "for each text in the list:  \n",
    "output the text, the sentiment, and if the results came from the API or cache.\n",
    "\n",
    "```\n",
    "texts = [\n",
    "    \"I love IST356. It is the best course I've ever taken.\", \n",
    "    \"I hate the New York Giants.\",\n",
    "    \"I love IST356. It is the best course I've ever taken.\", \n",
    "    \"I don't like the New York Giants.\"\n",
    "]\n",
    "```"
   ]
  },
  {
   "cell_type": "code",
   "execution_count": null,
   "metadata": {},
   "outputs": [],
   "source": []
  }
 ],
 "metadata": {
  "kernelspec": {
   "display_name": "Python 3",
   "language": "python",
   "name": "python3"
  },
  "language_info": {
   "codemirror_mode": {
    "name": "ipython",
    "version": 3
   },
   "file_extension": ".py",
   "mimetype": "text/x-python",
   "name": "python",
   "nbconvert_exporter": "python",
   "pygments_lexer": "ipython3",
   "version": "3.11.0"
  }
 },
 "nbformat": 4,
 "nbformat_minor": 2
}
