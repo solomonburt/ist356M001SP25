{
 "cells": [
  {
   "cell_type": "markdown",
   "metadata": {},
   "source": [
    "\n",
    "# API 4-1: REST API's\n",
    "\n",
    "HTTP basics, requests, Swagger, error handling\n"
   ]
  },
  {
   "cell_type": "markdown",
   "metadata": {},
   "source": [
    "## What is a Web API / REST API?\n",
    "\n",
    "A REST API (representational state transfer API) is a set of functions that can be accessed over the internet. The functions are organized in a way that they can be accessed using the common protocol of the Web, HTTP (Hypertext-Transport Protocol). \n",
    "\n",
    "By design, REST APIs are **stateless**, meaning:\n",
    "\n",
    "- calls can be made independently of one another, \n",
    "- each call contains all of the data needed to complete itself successfully, and\n",
    "- no one call depends on the next.\n",
    "\n",
    "REST APIs are designed around resources, which consists of a URIs (Uniform Resource Identifiers), and an HTTP request method.\n",
    "\n",
    "The methods are:\n",
    "\n",
    "- GET: retrieve a resource\n",
    "- POST: create a new resource\n",
    "- PUT: update a resource\n",
    "- DELETE: remove a resource\n",
    "- PATCH: update a resource with partial data\n"
   ]
  },
  {
   "cell_type": "markdown",
   "metadata": {},
   "source": [
    "## HTTP without a rest API Example\n",
    "\n",
    "Let's start with an example of invoking a simple HTTP request without using a REST API.\n",
    "\n",
    "Let's retrieve the content of this website: `https://github.com/auramnar/ist356M001SP25` programmatically.\n",
    "\n",
    "Notice the response is HTML content. This is a markup language used to create web pages and is intended for humans."
   ]
  },
  {
   "cell_type": "code",
<<<<<<< HEAD
   "execution_count": 1,
=======
   "execution_count": 2,
>>>>>>> a84c187566113fea08e0d4fbe45cf4dd0e9a0d5d
   "metadata": {},
   "outputs": [
    {
     "name": "stdout",
     "output_type": "stream",
     "text": [
      "<!DOCTYPE html>\n",
      "<html\n",
      "  lang=\"en\"\n",
      "  \n",
      "  data-color-mode=\"auto\" data-light-theme=\"light\" data-d\n"
     ]
    }
   ],
   "source": [
    "import requests\n",
    "uri = \"https://github.com/auramnar/ist356M001SP25\"\n",
    "response = requests.get(uri)\n",
    "print(response.text[:100].strip())\n",
    "\n"
   ]
  },
  {
   "cell_type": "markdown",
   "metadata": {},
   "source": [
    "## HTTP REST API Example\n",
    "\n",
    "This example will use the funny names API to demonstrate how to retrieve data from a REST API. Note that the code is exactly the same as the previous example, but the URL is different.\n",
    "\n"
   ]
  },
  {
   "cell_type": "code",
<<<<<<< HEAD
   "execution_count": 2,
=======
   "execution_count": 1,
>>>>>>> a84c187566113fea08e0d4fbe45cf4dd0e9a0d5d
   "metadata": {},
   "outputs": [
    {
     "name": "stdout",
     "output_type": "stream",
     "text": [
<<<<<<< HEAD
      "[{\"first\": \"Euron\", \"last\": \"Fyre\"}]\n",
=======
      "[{\"first\": \"Lola\", \"last\": \"Dabridgeda\"}]\n",
>>>>>>> a84c187566113fea08e0d4fbe45cf4dd0e9a0d5d
      "\n"
     ]
    }
   ],
   "source": [
    "import requests\n",
    "uri = \"https://cent.ischool-iot.net/api/funnyname/random\"\n",
    "response = requests.get(uri)\n",
    "print(response.text)"
   ]
  },
  {
   "cell_type": "markdown",
   "metadata": {},
   "source": [
    "## Parsing the JSON response\n",
    "\n",
    "You can see from the example above, the response is in JSON format. JSON is a lightweight data-interchange format that is easy for humans to read and write and easy for machines to parse and generate.\n",
    "\n",
    "Since REST API's are for machines, it makes sense to use the JSON format. We can deserialize the JSON response into a Python dictionary or list using the `json()` method on requests. "
   ]
  },
  {
   "cell_type": "code",
<<<<<<< HEAD
   "execution_count": 3,
=======
   "execution_count": 1,
>>>>>>> a84c187566113fea08e0d4fbe45cf4dd0e9a0d5d
   "metadata": {},
   "outputs": [
    {
     "name": "stdout",
     "output_type": "stream",
     "text": [
<<<<<<< HEAD
      "[{'first': 'Misty', 'last': 'Meadows'}]\n",
      "Misty Meadows\n"
=======
      "[{'first': 'Harry', 'last': 'Pits'}]\n",
      "Harry Pits\n"
>>>>>>> a84c187566113fea08e0d4fbe45cf4dd0e9a0d5d
     ]
    }
   ],
   "source": [
    "import requests\n",
    "uri = \"https://cent.ischool-iot.net/api/funnyname/random\"\n",
    "response = requests.get(uri)\n",
    "funny_person = response.json()\n",
    "print(funny_person) # list of dict\n",
    "print(funny_person[0]['first'], funny_person[0]['last'])"
   ]
  },
  {
   "cell_type": "markdown",
   "metadata": {},
   "source": [
    "## Response Codes for Handling Errors\n",
    "\n",
    "When the server returns a response to a request, included in the response is the HTTP status code, which tells the client whether or not the request worked. Unlike a regular API / function call such as print() this is necessary because there is a lot that can go wrong when you call a function over the open internet. Status codes are 3 digit numbers and the first number indicates the type of response:\n",
    "\n",
    "- 1xx - codes are informational. These are seldom used in web APIs.\n",
    "- 2xx - codes which begin with a 2 indicate success. The most common code is 200 - OK.\n",
    "- 3xx - codes which begin with a 3 indicate redirection - the response is not comming from the request URL you requested. For -example a 304 - Not modified means your response is coming from the browser's cache (content already downloaded).\n",
    "- 4xx - codes which begin with a 4 indicate a client error. The most common code here is 404 - Not Found. Any 4xx errors mean the requestor did something wrong. (In this case, that's you!)\n",
    "- 5xx - codes which begin with a 5 indicate a server error. The most common code here is 500 - Internal server error, which indicates the server could not process the request. When this happens it could be the web API's problem or the way you made the request.\n",
    "\n",
    "\n",
    "We handle errors using the `raise_for_status()` method on the response object. This method will raise an exception if the response is any status code other than 2xx. It's good to raise an exception here because it will stop the program from continuing and potentially causing more problems."
   ]
  },
  {
   "cell_type": "code",
   "execution_count": 4,
   "metadata": {},
   "outputs": [
    {
     "ename": "HTTPError",
     "evalue": "404 Client Error: NOT FOUND for url: https://cent.ischool-iot.net/api/funnynamez/random",
     "output_type": "error",
     "traceback": [
      "\u001b[1;31m---------------------------------------------------------------------------\u001b[0m",
      "\u001b[1;31mHTTPError\u001b[0m                                 Traceback (most recent call last)",
      "Cell \u001b[1;32mIn[4], line 5\u001b[0m\n\u001b[0;32m      3\u001b[0m uri \u001b[38;5;241m=\u001b[39m \u001b[38;5;124m\"\u001b[39m\u001b[38;5;124mhttps://cent.ischool-iot.net/api/funnynamez/random\u001b[39m\u001b[38;5;124m\"\u001b[39m\n\u001b[0;32m      4\u001b[0m response \u001b[38;5;241m=\u001b[39m requests\u001b[38;5;241m.\u001b[39mget(uri)\n\u001b[1;32m----> 5\u001b[0m \u001b[43mresponse\u001b[49m\u001b[38;5;241;43m.\u001b[39;49m\u001b[43mraise_for_status\u001b[49m\u001b[43m(\u001b[49m\u001b[43m)\u001b[49m\n\u001b[0;32m      6\u001b[0m \u001b[38;5;66;03m# none of this code is relevant if the status is not 2xx\u001b[39;00m\n\u001b[0;32m      7\u001b[0m funny_person \u001b[38;5;241m=\u001b[39m response\u001b[38;5;241m.\u001b[39mjson()\n",
      "File \u001b[1;32mc:\\Users\\Admin\\AppData\\Local\\Programs\\Python\\Python311\\Lib\\site-packages\\requests\\models.py:1024\u001b[0m, in \u001b[0;36mResponse.raise_for_status\u001b[1;34m(self)\u001b[0m\n\u001b[0;32m   1019\u001b[0m     http_error_msg \u001b[38;5;241m=\u001b[39m (\n\u001b[0;32m   1020\u001b[0m         \u001b[38;5;124mf\u001b[39m\u001b[38;5;124m\"\u001b[39m\u001b[38;5;132;01m{\u001b[39;00m\u001b[38;5;28mself\u001b[39m\u001b[38;5;241m.\u001b[39mstatus_code\u001b[38;5;132;01m}\u001b[39;00m\u001b[38;5;124m Server Error: \u001b[39m\u001b[38;5;132;01m{\u001b[39;00mreason\u001b[38;5;132;01m}\u001b[39;00m\u001b[38;5;124m for url: \u001b[39m\u001b[38;5;132;01m{\u001b[39;00m\u001b[38;5;28mself\u001b[39m\u001b[38;5;241m.\u001b[39murl\u001b[38;5;132;01m}\u001b[39;00m\u001b[38;5;124m\"\u001b[39m\n\u001b[0;32m   1021\u001b[0m     )\n\u001b[0;32m   1023\u001b[0m \u001b[38;5;28;01mif\u001b[39;00m http_error_msg:\n\u001b[1;32m-> 1024\u001b[0m     \u001b[38;5;28;01mraise\u001b[39;00m HTTPError(http_error_msg, response\u001b[38;5;241m=\u001b[39m\u001b[38;5;28mself\u001b[39m)\n",
      "\u001b[1;31mHTTPError\u001b[0m: 404 Client Error: NOT FOUND for url: https://cent.ischool-iot.net/api/funnynamez/random"
     ]
    }
   ],
   "source": [
    "# This intentionally fails with 404 - not found\n",
    "import requests\n",
    "uri = \"https://cent.ischool-iot.net/api/funnynamez/random\"\n",
    "response = requests.get(uri)\n",
    "response.raise_for_status()\n",
    "# none of this code is relevant if the status is not 2xx\n",
    "funny_person = response.json()\n",
    "print(funny_person) # list of dict\n",
    "print(funny_person[0]['first'], funny_person[0]['last'])"
   ]
  },
  {
   "cell_type": "markdown",
   "metadata": {},
   "source": [
    "## Algorithm for calling any REST API in Python\n",
    "\n",
    "1. prepare the request uri\n",
    "    1. headers\n",
    "    2. query parameters\n",
    "    3. body\n",
    "2. make the request with uri and appropriate method\n",
    "3. check the response status code with rise_for_status()\n",
    "4. deserialize the response into a Python object \n",
    "\n",
    "The process is always the same, only the way the requrest is prepares and your handling of the response content will change.\n"
   ]
  },
  {
   "cell_type": "markdown",
   "metadata": {},
   "source": [
    "## Examples\n",
    "\n",
    "First example gets the user streetm and the second example gets the post title.\n",
    "\n",
    "Uses the JSONPlaceholder API, which is a mock API (Fake data)\n",
    "\n",
    "Example 1:  \n",
    "get user: https://jsonplaceholder.typicode.com/users/1  \n",
    "street: `user['address']['street']`  \n",
    "\n",
    "Exmaple 2:  \n",
    "get post: https://jsonplaceholder.typicode.com/posts/1  \n",
    "title: `post['title']`  \n"
   ]
  },
  {
   "cell_type": "code",
   "execution_count": 3,
   "metadata": {},
   "outputs": [
    {
     "name": "stdout",
     "output_type": "stream",
     "text": [
      "{'id': 1, 'name': 'Leanne Graham', 'username': 'Bret', 'email': 'Sincere@april.biz', 'address': {'street': 'Kulas Light', 'suite': 'Apt. 556', 'city': 'Gwenborough', 'zipcode': '92998-3874', 'geo': {'lat': '-37.3159', 'lng': '81.1496'}}, 'phone': '1-770-736-8031 x56442', 'website': 'hildegard.org', 'company': {'name': 'Romaguera-Crona', 'catchPhrase': 'Multi-layered client-server neural-net', 'bs': 'harness real-time e-markets'}}\n",
      "STREET: Kulas Light\n",
      "{'userId': 1, 'id': 1, 'title': 'sunt aut facere repellat provident occaecati excepturi optio reprehenderit', 'body': 'quia et suscipit\\nsuscipit recusandae consequuntur expedita et cum\\nreprehenderit molestiae ut ut quas totam\\nnostrum rerum est autem sunt rem eveniet architecto'}\n",
      "TITLE: sunt aut facere repellat provident occaecati excepturi optio reprehenderit\n"
     ]
    }
   ],
   "source": [
    "import requests\n",
    "ex1_uri = \"https://jsonplaceholder.typicode.com/users/1\"\n",
    "response = requests.get(ex1_uri)\n",
    "response.raise_for_status()\n",
    "user = response.json()\n",
    "print(user)\n",
    "print(\"STREET:\", user['address']['street'])\n",
    "\n",
    "ex2_uri = \"https://jsonplaceholder.typicode.com/posts/1\"\n",
    "response = requests.get(ex2_uri)\n",
    "response.raise_for_status()\n",
    "post = response.json()\n",
    "print(post)\n",
    "print(\"TITLE:\", post['title'])\n"
   ]
  },
  {
   "cell_type": "markdown",
   "metadata": {},
   "source": [
    "## Challege 4-1-1\n",
    "\n",
    "Write a streamlit to read from the url:\n",
    "\n",
    "https://jsonplaceholder.typicode.com/users/\n",
    "\n",
    "Then display the data in a pandas dataframe. \n",
    "\n",
    " - use the requests library to get the data\n",
    " - use `json_normalize()` to convert the nested json data into a dataframe\n",
    "\n"
   ]
  },
  {
   "cell_type": "markdown",
   "metadata": {},
   "source": [
    "## Introducing the Iot Portal\n",
    "\n",
    "The CENT (Center for Emerging Network Technologies) created an IoT (Internet of Things) portal. The portal makes REST APIs available to IoT devices which commonly do not have the computing powert to perform these tasks, and to students so they don't have to pay for a cloud service to use REST APIs in their projects.\n",
    "\n",
    "[https://cent.ischool-iot.net/](https://cent.ischool-iot.net/) \n",
    "\n",
    "Sign in with your netid Microsoft Account and password.\n",
    "\n",
    "\n",
    "### Swagger and Curl\n",
    "\n",
    "The portal has a Swagger interface which allows you to test the API's in the browser. Swagger is a tool that helps you design, build, document, and consume REST APIs.\n",
    "\n",
    "The swagger interface shows how the API is called with a `curl` command, which allows you to make the same request from the command line.\n",
    "\n",
    "Copilot should be able to translate the curl command into Python requests code for you.\n",
    "\n",
    "\n",
    "### Example \n",
    "\n",
    "Let's use swagger to call the funny names API for 10 random names, then translate the curl command into Python code.\n"
   ]
  },
  {
   "cell_type": "code",
   "execution_count": 5,
   "metadata": {},
   "outputs": [
    {
     "name": "stdout",
     "output_type": "stream",
     "text": [
      "Penny Pincher\n",
      "Sal Ladd-Furdiner\n",
      "Carrie Dababbi\n",
      "Clifton Owhere\n",
      "Lee Hvmeehom\n",
      "Rip Yerpanz\n",
      "Russel Upsome-Gayme\n",
      "Cesar Salad\n",
      "Cook Myefoud\n",
      "Candi Kane\n"
     ]
    }
   ],
   "source": [
    "# Translate the following code to use requests\n",
    "# curl -X 'GET' \\\n",
    "#   'https://cent.ischool-iot.net/api/funnyname/random?n=10' \\\n",
    "#   -H 'accept: application/json'\n",
    "\n",
    "import requests\n",
    "uri = \"https://cent.ischool-iot.net/api/funnyname/random\"\n",
    "params = {'n': 10}\n",
    "response = requests.get(uri, params=params)\n",
    "response.raise_for_status()\n",
    "funny_people = response.json()\n",
    "for person in funny_people:\n",
    "    print(person['first'], person['last'])"
   ]
  },
  {
   "cell_type": "markdown",
   "metadata": {},
   "source": [
    "## Query String\n",
    "\n",
    "The Query String is a part of the URL that is used to pass data to the server **on the URL**. It is appended to the end of the URL and begins with a question mark \"?\". The query string is made up of a series of key-value pairs separated by an ampersand (&).\n",
    "\n",
    "Examples:\n",
    "\n",
    "`/sample?x=bar` => `{'x': 'bar'}`  \n",
    "`/sample?name=John&age=30` => `{'name': 'John', 'age': 'go'}`  \n",
    "`/sample?name=John&age=30&count=4` => `{'name': 'John', 'age': '30', count: '4'}`  \n",
    "\n",
    "In Python `requests` library, you can pass the query string as a dictionary under the `params` named argument. \n",
    "\n",
    "\n"
   ]
  },
  {
   "cell_type": "markdown",
   "metadata": {},
   "source": [
    "## Challenge 4-1-2\n",
    "\n",
    "Use the IoT portal for the URI to search for funny names. Once you understand how to invoke the REST API, write a streamlit to \n",
    "input a name and return the matches in a dataframe. "
   ]
  },
  {
   "cell_type": "markdown",
   "metadata": {},
   "source": [
    "## HTTP Headers\n",
    "\n",
    "HTTP headers are the key / value pairs that are sent in the request or response. They are used to pass additional information about the request or response. Unlike the query string, they are not part of the URL and are not visible to the user.\n",
    "\n",
    "In the IoT portal, the headers are used to pass the API Key which verifies who you are.\n",
    "\n",
    "Example:\n",
    "\n",
    "Use the random API to get 10 ints numbers between 1 and 100."
   ]
  },
  {
   "cell_type": "code",
<<<<<<< HEAD
   "execution_count": 6,
=======
   "execution_count": null,
>>>>>>> a84c187566113fea08e0d4fbe45cf4dd0e9a0d5d
   "metadata": {},
   "outputs": [
    {
     "name": "stdout",
     "output_type": "stream",
     "text": [
<<<<<<< HEAD
      "https://cent.ischool-iot.net/api/funnyname/random?n=10\n",
      "[{'first': 'Penny', 'last': 'Pincher'}, {'first': 'Sal', 'last': 'Ladd-Furdiner'}, {'first': 'Carrie', 'last': 'Dababbi'}, {'first': 'Clifton', 'last': 'Owhere'}, {'first': 'Lee', 'last': 'Hvmeehom'}, {'first': 'Rip', 'last': 'Yerpanz'}, {'first': 'Russel', 'last': 'Upsome-Gayme'}, {'first': 'Cesar', 'last': 'Salad'}, {'first': 'Cook', 'last': 'Myefoud'}, {'first': 'Candi', 'last': 'Kane'}]\n"
=======
      "https://cent.ischool-iot.net/api/random/int?count=10&min=1&max=100\n",
      "[90, 44, 49, 36, 26, 100, 74, 34, 82, 79]\n"
>>>>>>> a84c187566113fea08e0d4fbe45cf4dd0e9a0d5d
     ]
    }
   ],
   "source": [
    "import requests \n",
    "apikey = \"e4817f2223fc521129078fbf\"\n",
    "uri = \"https://cent.ischool-iot.net/api/random/int\"\n",
    "params = { 'count': 10, 'min': 1, 'max': 100 }\n",
    "headers = { \"X-API-KEY\": apikey} # goes in the header\n",
    "response = requests.get(uri, headers=headers, params=params)\n",
    "response.raise_for_status()\n",
    "print(response.url)     # see the full URL no API key there\n",
    "numbers = response.json()\n",
    "print(numbers)"
   ]
  },
  {
   "cell_type": "markdown",
   "metadata": {},
   "source": [
    "## Challenge 4-1-3\n",
    "\n",
    "Weather Example\n",
    "\n",
    "Figure out how to call these in the IoT portal:\n",
    "- Google geocode API to take a location and get a latitute and longitude\n",
    "- Weather API to get the weather for a latitude and longitude\n",
    "\n",
    "Write a streamlit to input a location and return the current weather conditions. Use the `st.metric` to display the temperature and humidity with units. e.g. 56°F and 80% humidity.\n",
    "\n",
    "\n",
    "---------------------------------------\n"
   ]
  },
  {
   "cell_type": "markdown",
   "metadata": {},
   "source": [
    "## Syracuse Data Portal API Explorer\n",
    "\n",
    "Find Data set on [https://data.syr.gov](https://data.syr.gov)  Once you are on the \"explore\" page, repalce URL stem with `/api`\n",
    "\n",
    "From :\n",
    "https://data.syr.gov/datasets/4fd187e47c59492cabf55344beb8d538_0/explore \n",
    "\n",
    "To:\n",
    "https://data.syr.gov/datasets/4fd187e47c59492cabf55344beb8d538_0/api\n",
    "\n",
    "\n",
    "Then make your selections then copy the Query URL."
   ]
  },
  {
   "cell_type": "code",
   "execution_count": 7,
   "metadata": {},
   "outputs": [
    {
     "ename": "NameError",
     "evalue": "name 'pd' is not defined",
     "output_type": "error",
     "traceback": [
      "\u001b[1;31m---------------------------------------------------------------------------\u001b[0m",
      "\u001b[1;31mNameError\u001b[0m                                 Traceback (most recent call last)",
      "Cell \u001b[1;32mIn[7], line 8\u001b[0m\n\u001b[0;32m      6\u001b[0m response\u001b[38;5;241m.\u001b[39mraise_for_status()\n\u001b[0;32m      7\u001b[0m data \u001b[38;5;241m=\u001b[39m response\u001b[38;5;241m.\u001b[39mjson()\n\u001b[1;32m----> 8\u001b[0m df \u001b[38;5;241m=\u001b[39m \u001b[43mpd\u001b[49m\u001b[38;5;241m.\u001b[39mjson_normalize(data[\u001b[38;5;124m'\u001b[39m\u001b[38;5;124mfeatures\u001b[39m\u001b[38;5;124m'\u001b[39m])\n\u001b[0;32m      9\u001b[0m df[df[\u001b[38;5;124m'\u001b[39m\u001b[38;5;124mattributes.Vacant\u001b[39m\u001b[38;5;124m'\u001b[39m]\u001b[38;5;241m==\u001b[39m\u001b[38;5;124m'\u001b[39m\u001b[38;5;124mCommercial\u001b[39m\u001b[38;5;124m'\u001b[39m]\n",
      "\u001b[1;31mNameError\u001b[0m: name 'pd' is not defined"
     ]
    }
   ],
   "source": [
    "import requests\n",
    "import json\n",
    "\n",
    "url = \"https://services6.arcgis.com/bdPqSfflsdgFRVVM/arcgis/rest/services/Vacant_Properties/FeatureServer/0/query?where=1%3D1&outFields=*&outSR=4326&f=json\"\n",
    "response = requests.get(url)\n",
    "response.raise_for_status()\n",
    "data = response.json()\n",
    "df = pd.json_normalize(data['features'])\n",
    "df[df['attributes.Vacant']=='Commercial']"
   ]
  },
  {
   "cell_type": "code",
   "execution_count": 14,
   "metadata": {},
   "outputs": [
    {
     "data": {
      "text/plain": [
       "array(['Residential', 'Commercial'], dtype=object)"
      ]
     },
     "execution_count": 14,
     "metadata": {},
     "output_type": "execute_result"
    }
   ],
   "source": [
    "df['attributes.Vacant'].unique()"
   ]
  },
  {
   "cell_type": "code",
   "execution_count": null,
   "metadata": {},
   "outputs": [],
   "source": []
  }
 ],
 "metadata": {
  "kernelspec": {
   "display_name": "Python 3",
   "language": "python",
   "name": "python3"
  },
  "language_info": {
   "codemirror_mode": {
    "name": "ipython",
    "version": 3
   },
   "file_extension": ".py",
   "mimetype": "text/x-python",
   "name": "python",
   "nbconvert_exporter": "python",
   "pygments_lexer": "ipython3",
   "version": "3.11.0"
  }
 },
 "nbformat": 4,
 "nbformat_minor": 2
}
